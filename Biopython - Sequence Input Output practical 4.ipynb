{
 "cells": [
  {
   "cell_type": "markdown",
   "metadata": {},
   "source": [
    "### Biopython Sequence Input/Output"
   ]
  },
  {
   "cell_type": "code",
   "execution_count": 1,
   "metadata": {},
   "outputs": [],
   "source": [
    "from Bio import SeqIO\n",
    "import gzip\n",
    "from Bio import Entrez \n",
    "from Bio import ExPASy\n",
    "import glob\n",
    "from Bio.Seq import Seq\n",
    "from Bio.SeqRecord import SeqRecord\n",
    "from io import StringIO\n",
    "from Bio.SeqIO.FastaIO import SimpleFastaParser\n",
    "\n",
    "import os "
   ]
  },
  {
   "cell_type": "code",
   "execution_count": 2,
   "metadata": {},
   "outputs": [],
   "source": [
    "os.chdir(\"C:/Users/smart/Documents/Bioinformatics/Data Science for bioinformatics/Week 7 practical/Data\")"
   ]
  },
  {
   "cell_type": "code",
   "execution_count": 3,
   "metadata": {},
   "outputs": [
    {
     "name": "stdout",
     "output_type": "stream",
     "text": [
      "Fasta1\n",
      "Seq('TCCAAGTCCCTGCAGCTTCTTGACTACACCGTCCTTTCTCACCGAGCAGAC')\n",
      "51\n",
      "Fasta2\n",
      "Seq('CTCTCTGCAGCTGCAGCCTGCACCCACAGAGGACTTCTGGCAGAGGTATAA')\n",
      "51\n",
      "Fasta3\n",
      "Seq('TTCCTACCCGGCTCGGCGCTCCCGGCCCTGGCTGGGCAGGGCAGAGCGCCC')\n",
      "51\n",
      "Fasta4\n",
      "Seq('CCGCTGAGACAGCAGGCCGGCGCTGCCCGCAGGTGTCGGCGGCAGCGGCGG')\n",
      "51\n",
      "Fasta5\n",
      "Seq('GCTAGTTGTTTTCTGCTTGTTTACACGTTTTCATGCAGATTTTAACTGTAT')\n",
      "51\n",
      "Fasta6\n",
      "Seq('CACTGGTGACGACCAGTCCCCCACCACAGGGTTCTGCCGCCAGTGACTGGA')\n",
      "51\n"
     ]
    }
   ],
   "source": [
    "#reading in fasta file with multiple records\n",
    "for seq_record in SeqIO.parse(\"MultiFasta.fasta\", \"fasta\"):\n",
    "    print(seq_record.id)\n",
    "    print(repr(seq_record.seq))\n",
    "    print(len(seq_record))\n"
   ]
  },
  {
   "cell_type": "code",
   "execution_count": 4,
   "metadata": {},
   "outputs": [
    {
     "name": "stdout",
     "output_type": "stream",
     "text": [
      "ID: gi|45478711|ref|NC_005816.1|\n",
      "Name: gi|45478711|ref|NC_005816.1|\n",
      "Description: gi|45478711|ref|NC_005816.1| Yersinia pestis biovar Microtus str. 91001 plasmid pPCP1, complete sequence\n",
      "Number of features: 0\n",
      "Seq('TGTAACGAACGGTGCAATAGTGATCCACACCCAACGCCTGAAATCAGATCCAGG...CTG')\n"
     ]
    }
   ],
   "source": [
    "#reading in a fasta file with a single file\n",
    "\n",
    "record = SeqIO.read(\"NC_005816.fna\", \"fasta\")\n",
    "print(record)"
   ]
  },
  {
   "cell_type": "code",
   "execution_count": 5,
   "metadata": {},
   "outputs": [
    {
     "name": "stdout",
     "output_type": "stream",
     "text": [
      "['NC_005816.1']\n"
     ]
    }
   ],
   "source": [
    "#this uses list comprehension in order to put sequence ids of a file into a list \n",
    "identifiers = [seq_record.id for seq_record in SeqIO.parse(\"NC_005816.gb\", \"genbank\")]\n",
    "print(identifiers)\n"
   ]
  },
  {
   "cell_type": "markdown",
   "metadata": {},
   "source": [
    "This is another method of pasing fast files into python. The next() function allows us to do this"
   ]
  },
  {
   "cell_type": "code",
   "execution_count": 6,
   "metadata": {},
   "outputs": [
    {
     "name": "stdout",
     "output_type": "stream",
     "text": [
      "Fasta1\n",
      "Fasta2\n"
     ]
    }
   ],
   "source": [
    " \n",
    "record_iterator = SeqIO.parse(\"MultiFasta.fasta\", \"fasta\")\n",
    "\n",
    "first_record = next(record_iterator)\n",
    "print(first_record.id)\n",
    "\n",
    "second_record = next(record_iterator)\n",
    "print(second_record.id)"
   ]
  },
  {
   "cell_type": "markdown",
   "metadata": {},
   "source": [
    "This way only gives the first one only. To get a second one, thrid one etc, you would need an iterator "
   ]
  },
  {
   "cell_type": "code",
   "execution_count": 7,
   "metadata": {},
   "outputs": [
    {
     "name": "stdout",
     "output_type": "stream",
     "text": [
      "ID: Fasta1\n",
      "Name: Fasta1\n",
      "Description: Fasta1\n",
      "Number of features: 0\n",
      "Seq('TCCAAGTCCCTGCAGCTTCTTGACTACACCGTCCTTTCTCACCGAGCAGAC')\n"
     ]
    }
   ],
   "source": [
    "recordOne = next(SeqIO.parse(\"MultiFasta.fasta\", \"fasta\"))\n",
    "print(recordOne)\n",
    "\n"
   ]
  },
  {
   "cell_type": "code",
   "execution_count": 8,
   "metadata": {},
   "outputs": [
    {
     "name": "stdout",
     "output_type": "stream",
     "text": [
      "Found 50000 records\n"
     ]
    }
   ],
   "source": [
    "records = list(SeqIO.parse(\"test1.fastq\", \"fastq\"))\n",
    "\n",
    "print(\"Found %i records\" % len(records))"
   ]
  },
  {
   "cell_type": "code",
   "execution_count": 9,
   "metadata": {},
   "outputs": [
    {
     "name": "stdout",
     "output_type": "stream",
     "text": [
      "The last record\n",
      "SRR5680996.26785565\n",
      "Seq('TGGCACAGCAGGCGGTTCTGACTGATGTGCACACAGTAAACAAAATGCTTG')\n",
      "51\n",
      "The first record\n",
      "SRR5680996.31734339\n",
      "AGAGCAACACCTTGTGCCTCCAAGAAAGTATTAGTCTCCCTGAGGACTCTT\n",
      "51\n"
     ]
    }
   ],
   "source": [
    "print(\"The last record\")\n",
    "last_record = records[-1]\n",
    "print(last_record.id)\n",
    "print(repr(last_record.seq))\n",
    "print(len(last_record))\n",
    "\n",
    "print(\"The first record\")\n",
    "first_record = records[0]\n",
    "print(first_record.id)\n",
    "print(first_record.seq)\n",
    "print(len(first_record))\n"
   ]
  },
  {
   "cell_type": "code",
   "execution_count": 10,
   "metadata": {},
   "outputs": [
    {
     "name": "stdout",
     "output_type": "stream",
     "text": [
      "123456\n"
     ]
    }
   ],
   "source": [
    "print(repr(123456))"
   ]
  },
  {
   "cell_type": "markdown",
   "metadata": {},
   "source": [
    "## Extracting Data"
   ]
  },
  {
   "cell_type": "code",
   "execution_count": 11,
   "metadata": {},
   "outputs": [
    {
     "name": "stdout",
     "output_type": "stream",
     "text": [
      "ID: NC_005816.1\n",
      "Name: NC_005816\n",
      "Description: Yersinia pestis biovar Microtus str. 91001 plasmid pPCP1, complete sequence\n",
      "Database cross-references: Project:58037\n",
      "Number of features: 41\n",
      "/molecule_type=DNA\n",
      "/topology=circular\n",
      "/data_file_division=BCT\n",
      "/date=21-JUL-2008\n",
      "/accessions=['NC_005816']\n",
      "/sequence_version=1\n",
      "/gi=45478711\n",
      "/keywords=['']\n",
      "/source=Yersinia pestis biovar Microtus str. 91001\n",
      "/organism=Yersinia pestis biovar Microtus str. 91001\n",
      "/taxonomy=['Bacteria', 'Proteobacteria', 'Gammaproteobacteria', 'Enterobacteriales', 'Enterobacteriaceae', 'Yersinia']\n",
      "/references=[Reference(title='Genetics of metabolic variations between Yersinia pestis biovars and the proposal of a new biovar, microtus', ...), Reference(title='Complete genome sequence of Yersinia pestis strain 91001, an isolate avirulent to humans', ...), Reference(title='Direct Submission', ...), Reference(title='Direct Submission', ...)]\n",
      "/comment=PROVISIONAL REFSEQ: This record has not yet been subject to final\n",
      "NCBI review. The reference sequence was derived from AE017046.\n",
      "COMPLETENESS: full length.\n",
      "Seq('TGTAACGAACGGTGCAATAGTGATCCACACCCAACGCCTGAAATCAGATCCAGG...CTG')\n"
     ]
    }
   ],
   "source": [
    "rec_iterator = SeqIO.parse(\"NC_005816.gb\", \"genbank\")\n",
    "\n",
    "record1 = next(rec_iterator)\n",
    "print(record1)"
   ]
  },
  {
   "cell_type": "code",
   "execution_count": 12,
   "metadata": {},
   "outputs": [
    {
     "name": "stdout",
     "output_type": "stream",
     "text": [
      "{'molecule_type': 'DNA', 'topology': 'circular', 'data_file_division': 'BCT', 'date': '21-JUL-2008', 'accessions': ['NC_005816'], 'sequence_version': 1, 'gi': '45478711', 'keywords': [''], 'source': 'Yersinia pestis biovar Microtus str. 91001', 'organism': 'Yersinia pestis biovar Microtus str. 91001', 'taxonomy': ['Bacteria', 'Proteobacteria', 'Gammaproteobacteria', 'Enterobacteriales', 'Enterobacteriaceae', 'Yersinia'], 'references': [Reference(title='Genetics of metabolic variations between Yersinia pestis biovars and the proposal of a new biovar, microtus', ...), Reference(title='Complete genome sequence of Yersinia pestis strain 91001, an isolate avirulent to humans', ...), Reference(title='Direct Submission', ...), Reference(title='Direct Submission', ...)], 'comment': 'PROVISIONAL REFSEQ: This record has not yet been subject to final\\nNCBI review. The reference sequence was derived from AE017046.\\nCOMPLETENESS: full length.'}\n"
     ]
    }
   ],
   "source": [
    "print(record1.annotations)"
   ]
  },
  {
   "cell_type": "code",
   "execution_count": 13,
   "metadata": {},
   "outputs": [
    {
     "name": "stdout",
     "output_type": "stream",
     "text": [
      "dict_keys(['molecule_type', 'topology', 'data_file_division', 'date', 'accessions', 'sequence_version', 'gi', 'keywords', 'source', 'organism', 'taxonomy', 'references', 'comment'])\n"
     ]
    }
   ],
   "source": [
    "print(record1.annotations.keys())"
   ]
  },
  {
   "cell_type": "code",
   "execution_count": 14,
   "metadata": {},
   "outputs": [
    {
     "name": "stdout",
     "output_type": "stream",
     "text": [
      "dict_values(['DNA', 'circular', 'BCT', '21-JUL-2008', ['NC_005816'], 1, '45478711', [''], 'Yersinia pestis biovar Microtus str. 91001', 'Yersinia pestis biovar Microtus str. 91001', ['Bacteria', 'Proteobacteria', 'Gammaproteobacteria', 'Enterobacteriales', 'Enterobacteriaceae', 'Yersinia'], [Reference(title='Genetics of metabolic variations between Yersinia pestis biovars and the proposal of a new biovar, microtus', ...), Reference(title='Complete genome sequence of Yersinia pestis strain 91001, an isolate avirulent to humans', ...), Reference(title='Direct Submission', ...), Reference(title='Direct Submission', ...)], 'PROVISIONAL REFSEQ: This record has not yet been subject to final\\nNCBI review. The reference sequence was derived from AE017046.\\nCOMPLETENESS: full length.'])\n"
     ]
    }
   ],
   "source": [
    "print(record1.annotations.values())"
   ]
  },
  {
   "cell_type": "code",
   "execution_count": 15,
   "metadata": {},
   "outputs": [
    {
     "name": "stdout",
     "output_type": "stream",
     "text": [
      "['Yersinia']\n"
     ]
    }
   ],
   "source": [
    "all_species = []\n",
    "for seq_record in SeqIO.parse(\"NC_005816.fna\", \"fasta\"):\n",
    "    all_species.append(seq_record.description.split()[1])\n",
    "print(all_species)"
   ]
  },
  {
   "cell_type": "code",
   "execution_count": 16,
   "metadata": {},
   "outputs": [
    {
     "name": "stdout",
     "output_type": "stream",
     "text": [
      "['Yersinia']\n"
     ]
    }
   ],
   "source": [
    "all_species = []\n",
    "for seq_record in SeqIO.parse(\"NC_005816.fna\", \"fasta\"):\n",
    "    all_species.append(seq_record.description.split()[1])\n",
    "print(all_species)"
   ]
  },
  {
   "cell_type": "markdown",
   "metadata": {},
   "source": [
    "## Modifying data"
   ]
  },
  {
   "cell_type": "code",
   "execution_count": 17,
   "metadata": {},
   "outputs": [
    {
     "name": "stdout",
     "output_type": "stream",
     "text": [
      "Fasta1\n"
     ]
    }
   ],
   "source": [
    "record_iterator = SeqIO.parse(\"MultiFasta.fasta\", \"fasta\")\n",
    "\n",
    "FaRec1 = next(record_iterator)\n",
    "\n",
    "print(FaRec1.id)"
   ]
  },
  {
   "cell_type": "code",
   "execution_count": 18,
   "metadata": {},
   "outputs": [
    {
     "name": "stdout",
     "output_type": "stream",
     "text": [
      "new_id\n"
     ]
    }
   ],
   "source": [
    "FaRec1.id = \"new_id\"\n",
    "print(FaRec1.id)"
   ]
  },
  {
   "cell_type": "code",
   "execution_count": 19,
   "metadata": {},
   "outputs": [
    {
     "name": "stdout",
     "output_type": "stream",
     "text": [
      "9609\n"
     ]
    }
   ],
   "source": [
    "print(sum(len(r) for r in SeqIO.parse(\"NC_005816.gb\", \"genbank\")))"
   ]
  },
  {
   "cell_type": "markdown",
   "metadata": {},
   "source": [
    "Handle is pretty much a pointer "
   ]
  },
  {
   "cell_type": "code",
   "execution_count": 20,
   "metadata": {},
   "outputs": [
    {
     "name": "stdout",
     "output_type": "stream",
     "text": [
      "9609\n"
     ]
    }
   ],
   "source": [
    "with open(\"NC_005816.gb\") as handle:\n",
    "    print(sum(len(r) for r in SeqIO.parse(handle, \"gb\")))"
   ]
  },
  {
   "cell_type": "code",
   "execution_count": 21,
   "metadata": {},
   "outputs": [
    {
     "name": "stdout",
     "output_type": "stream",
     "text": [
      "9609\n"
     ]
    }
   ],
   "source": [
    "with gzip.open(\"NC_005816.gb.gz\", \"rt\") as handle:\n",
    "    print(sum(len(r) for r in SeqIO.parse(handle, \"gb\")))"
   ]
  },
  {
   "cell_type": "markdown",
   "metadata": {},
   "source": [
    "## Parsing sequencings from the internet "
   ]
  },
  {
   "cell_type": "markdown",
   "metadata": {},
   "source": [
    "Parsing data of the AOC1 gene in Homo sapiens using entrez.efetch"
   ]
  },
  {
   "cell_type": "code",
   "execution_count": 22,
   "metadata": {},
   "outputs": [
    {
     "name": "stdout",
     "output_type": "stream",
     "text": [
      "NM_001272072.2 with 0 features\n"
     ]
    }
   ],
   "source": [
    "Entrez.email = \"bioinformatics_man@yahoo.com\"\n",
    "\n",
    "with Entrez.efetch(\n",
    "db = \"nucleotide\", rettype=\"fasta\", retmode=\"text\", id=\"1677537813\") as handle:\n",
    "    seq_entrez = SeqIO.read(handle, \"fasta\")\n",
    "print(\"%s with %i features\" % (seq_entrez.id, len(seq_entrez.features)))"
   ]
  },
  {
   "cell_type": "code",
   "execution_count": 23,
   "metadata": {},
   "outputs": [
    {
     "name": "stdout",
     "output_type": "stream",
     "text": [
      "NM_001272072.2 with 12 features\n"
     ]
    }
   ],
   "source": [
    "with Entrez.efetch(\n",
    "     db = \"nucleotide\", rettype= \"gb\", retmode=\"text\", id=\"1677537813\") as jason:\n",
    "    seq_gb = SeqIO.read(jason, \"gb\")\n",
    "print(\"%s with %i features\" % (seq_gb.id, len(seq_gb.features)))"
   ]
  },
  {
   "cell_type": "markdown",
   "metadata": {},
   "source": [
    "Fetching multiple records from NCBI"
   ]
  },
  {
   "cell_type": "code",
   "execution_count": 24,
   "metadata": {},
   "outputs": [
    {
     "name": "stdout",
     "output_type": "stream",
     "text": [
      "NM_001272072.2 Homo sapiens amine oxidase copper containing 1 (AO...\n",
      "Sequence length 2666, 12 features, from: Homo sapiens (human)\n",
      "KP300003.1 Gossypium hirsutum cultivar CCRI10 AOC1 (AOC1) mRN...\n",
      "Sequence length 762, 3 features, from: Gossypium hirsutum (cotton)\n",
      "NM_001161622.1 Mus musculus amine oxidase, copper-containing 1 (A...\n",
      "Sequence length 2734, 10 features, from: Mus musculus (house mouse)\n"
     ]
    }
   ],
   "source": [
    "with Entrez.efetch(\n",
    "    db=\"nucleotide\", rettype=\"gb\", retmode=\"text\", id=\"1677537813,932245638,239051903\"\n",
    ") as handle:\n",
    "    for seq_rec in SeqIO.parse(handle, \"gb\"):\n",
    "        print(\"%s %s...\" % (seq_rec.id, seq_rec.description[:50]))\n",
    "        print(\n",
    "            \"Sequence length %i, %i features, from: %s\"\n",
    "            % (\n",
    "                len(seq_rec),\n",
    "                len(seq_rec.features),\n",
    "                seq_rec.annotations[\"source\"],\n",
    "            )\n",
    "        )\n",
    "        "
   ]
  },
  {
   "cell_type": "markdown",
   "metadata": {},
   "source": [
    "## Sequence Files as Dictionaries "
   ]
  },
  {
   "cell_type": "code",
   "execution_count": 25,
   "metadata": {},
   "outputs": [
    {
     "data": {
      "text/plain": [
       "['AF358434.1', 'JF682784.1', 'KP300003.1']"
      ]
     },
     "execution_count": 25,
     "metadata": {},
     "output_type": "execute_result"
    }
   ],
   "source": [
    "AOC1_dict = SeqIO.to_dict(SeqIO.parse(\"AOC1seq.gb\", \"genbank\"))\n",
    "list(AOC1_dict.keys())"
   ]
  },
  {
   "cell_type": "code",
   "execution_count": 26,
   "metadata": {},
   "outputs": [
    {
     "data": {
      "text/plain": [
       "[SeqRecord(seq=Seq('TTCAAGGTTTTCGTTCTCATAGATAAGAGTTCCACGTGACCATTTGTATGGGGA...TTC'), id='AF358434.1', name='AF358434', description='Pichia pastoris lysyl oxidase (AOC1) gene, complete cds', dbxrefs=[]),\n",
       " SeqRecord(seq=Seq('AGAGAGAAGAAAAAGGTGAATCAATTAATTAGCCATGGCAGCTTCATCCGCCTC...AAT'), id='JF682784.1', name='JF682784', description='Salvia miltiorrhiza allene oxide cyclase (AOC1) gene, complete cds', dbxrefs=[]),\n",
       " SeqRecord(seq=Seq('ATGGCATCCACCACCTCCCTCAAACCGATCCCTTCCATCAACTTGCCTTCCCAA...TGA'), id='KP300003.1', name='KP300003', description='Gossypium hirsutum cultivar CCRI10 AOC1 (AOC1) mRNA, complete cds', dbxrefs=[])]"
      ]
     },
     "execution_count": 26,
     "metadata": {},
     "output_type": "execute_result"
    }
   ],
   "source": [
    "list(AOC1_dict.values())"
   ]
  },
  {
   "cell_type": "code",
   "execution_count": 27,
   "metadata": {},
   "outputs": [
    {
     "name": "stdout",
     "output_type": "stream",
     "text": [
      "description: \n",
      " Salvia miltiorrhiza allene oxide cyclase (AOC1) gene, complete cds\n",
      "sequence: \n",
      " AGAGAGAAGAAAAAGGTGAATCAATTAATTAGCCATGGCAGCTTCATCCGCCTCTACTATTTTGAAGGTTGCCGTCTCCTCCCCTTCTCCCGCCAGACTGCCGCCGTCCGCCGCCTCCCAGAAACTCCCATCCAAGCAGAAACACTCCCTCCCTAAACCCCTCGCTCTCTCCACCACTAAATCATTCTCATGCAGAGCACAGGCTGCAGCTGATTCAACACCCCGTCCCCGTAAGCTTTGCTTTTCTTCCATTTCAGATTCCTGATTTATTTTTTCTAAGAAATGAGAAATATTTGTTGTTCTAATTTAGAGAAAGTTCAAGAGCTGCACGTCTACGAGATCAACGAGCGTGATCGCGGCAGCCCCGCATACCTCCGATTGAGCCAAAAAACCGTCAATTCCCTCGGCGATCTCGTGCCTTTCAGCAACAAGGTACAATTAAATCTAATCTTTTTAATTATCACACTGCCCTGCCCTAATTATTTAAATGTGCGAAAATCATGATCGGCCGTGGATGTGGATTTGCAGGTGTACACCGGCGACCTGAAGAAACGGGCTGGAATAACGGCGGGGATATGCATCCTGATAAAGAACGAAGCAGAGAAGAAGGGCGACCGGTACGAGGCCATCTACAGCTTCTACTTGGGCGACTACGGCCACATCGCCGTGCAGGGGCCCTACCTCACCTACCAAGACACCGAGCTCGCCGTCACCGGCGGCTCCGGCGTCTTCGAGGGCGTCTACGGCCACGTCAAGCTCCACCAGATCATCTTCCCCTTCAAACTCTTCTATACCTTCCACCTCAAGGGCATCCCCGACCTGCCGCCGGAGCTGCTCGCCCAGCCGGTGCCGCCCGCGCTCCACGTGGAGCCCACCCCCGCCGCCAAGACTTGTGAACCGGGAGCCACGCTCCCTAACTTTACCAATTAGTTTCTCCGTTGACGGGTCGTTGCTTCCATGTGTAATAAAT\n"
     ]
    }
   ],
   "source": [
    "AOC1_record = AOC1_dict[\"JF682784.1\"]\n",
    "print(\"description: \\n\", AOC1_record.description)\n",
    "print(\"sequence: \\n\", AOC1_record.seq)\n"
   ]
  },
  {
   "cell_type": "code",
   "execution_count": 28,
   "metadata": {},
   "outputs": [
    {
     "name": "stdout",
     "output_type": "stream",
     "text": [
      "dict_keys(['gi|13936869|gb|AF358434.1|', 'gi|377552570|gb|JF682784.1|', 'gi|932245638|gb|KP300003.1|'])\n"
     ]
    }
   ],
   "source": [
    "AOC1_FaDict = SeqIO.to_dict(SeqIO.parse(\"AOC1seq.fasta\", \"fasta\"))\n",
    "print(AOC1_FaDict.keys())"
   ]
  },
  {
   "cell_type": "markdown",
   "metadata": {},
   "source": [
    "## Sequence files as dictionaries - Indexed files "
   ]
  },
  {
   "cell_type": "code",
   "execution_count": 29,
   "metadata": {},
   "outputs": [],
   "source": [
    "AOC1_index  = SeqIO.index(\"AOC1seq.gb\", \"genbank\")\n"
   ]
  },
  {
   "cell_type": "code",
   "execution_count": 30,
   "metadata": {},
   "outputs": [
    {
     "name": "stdout",
     "output_type": "stream",
     "text": [
      "3\n"
     ]
    }
   ],
   "source": [
    "print(len(AOC1_index))"
   ]
  },
  {
   "cell_type": "code",
   "execution_count": 31,
   "metadata": {},
   "outputs": [
    {
     "name": "stdout",
     "output_type": "stream",
     "text": [
      "3\n"
     ]
    }
   ],
   "source": [
    "AOC1FA_INDEX = SeqIO.index(\"AOC1seq.fasta\", \"fasta\")\n",
    "print(len(AOC1FA_INDEX))"
   ]
  },
  {
   "cell_type": "code",
   "execution_count": 32,
   "metadata": {},
   "outputs": [
    {
     "data": {
      "text/plain": [
       "['gi|13936869|gb|AF358434.1|',\n",
       " 'gi|377552570|gb|JF682784.1|',\n",
       " 'gi|932245638|gb|KP300003.1|']"
      ]
     },
     "execution_count": 32,
     "metadata": {},
     "output_type": "execute_result"
    }
   ],
   "source": [
    "list(AOC1FA_INDEX)"
   ]
  },
  {
   "cell_type": "code",
   "execution_count": 33,
   "metadata": {},
   "outputs": [
    {
     "name": "stdout",
     "output_type": "stream",
     "text": [
      ">gi|932245638|gb|KP300003.1| Gossypium hirsutum cultivar CCRI10 AOC1 (AOC1) mRNA, complete cds\n",
      "ATGGCATCCACCACCTCCCTCAAACCGATCCCTTCCATCAACTTGCCTTCCCAATCTCAC\n",
      "AGAGCTTTAGCTTCCAATTTCTCTTATTCAAAGCCTTTTCCCTTCCATGGCCTCAACCTC\n",
      "TCATCGGTCACTGAAACCAGTTCCTTCACCTCATCAAGATCCTCCAACCCCTTCACTACC\n",
      "ACTGCCTTCTTCTTCAACAAGTTCAAGCAGGAGGCCGCTCCACATACTCCCAAGCCCACA\n",
      "AAAGTTCAAGAGCTACACGTTTATGAAATGAACGAGAGAGACAGAAGCAGCCCTGCAGTT\n",
      "TTGAAACTAAGCCAAAAACCCGTAAACTCTCTGGGTGATCTGGTTCCTTTCACTAACAAG\n",
      "CTCTACTCTGGAGACTTGCAGAAAAGGGTGGGCATCACGGCTGGACTCTGTGTGCTGATC\n",
      "CAACACGTCCCGGAGAAAAAAGGCGATCGCTATGAAGCCATATACAGCTTCTACTTTGGT\n",
      "GACTACGGCCATTTGTCTGTCCAGGGACCCTATTTAACGTATGAGGATTCCTACTTGGCG\n",
      "GTGACGGGAGGATCTGGGATTTTCGAAGGAGCCTACGGACAGGTGAAGTTACATCAGATA\n",
      "GTGTTTCCCATGAAGCTGTATTATACATTCTACCTGAAAGGGATAGGTGATTTGCCAGCT\n",
      "GAGCTTCTAGGAAAGCCAGTGCCACCATCGCCTGCGGTGGAGCCCAGCGCGGCTGCTAAA\n",
      "GCTACGGAGCCCCATGGTAGTATTCCAAATTTTACCAACTGA\n",
      "\n"
     ]
    }
   ],
   "source": [
    "print(AOC1FA_INDEX[\"gi|932245638|gb|KP300003.1|\"].format(\"fasta\"))"
   ]
  },
  {
   "cell_type": "code",
   "execution_count": 34,
   "metadata": {},
   "outputs": [
    {
     "name": "stdout",
     "output_type": "stream",
     "text": [
      "26216\n",
      "30205\n",
      "10852\n",
      "11032\n",
      "13662\n"
     ]
    }
   ],
   "source": [
    "uniprot = SeqIO.index(\"uniprot_sprot.dat\", \"swiss\")\n",
    "\n",
    "with open(\"selected.dat\", \"wb\") as out_handle:\n",
    "    for acc in [\"P33487\", \"P19801\",\"P13689\",\"Q8JZQ5\",\"Q9TRC7\"]:\n",
    "        print(out_handle.write(uniprot.get_raw(acc)))"
   ]
  },
  {
   "cell_type": "code",
   "execution_count": 37,
   "metadata": {},
   "outputs": [
    {
     "name": "stdout",
     "output_type": "stream",
     "text": [
      "0 files to index\n"
     ]
    }
   ],
   "source": [
    "files = glob.glob(\"gbvr1*.seq\")\n",
    "print(\"%i files to index\" % len(files))"
   ]
  },
  {
   "cell_type": "code",
   "execution_count": 38,
   "metadata": {},
   "outputs": [
    {
     "name": "stdout",
     "output_type": "stream",
     "text": [
      "453791 sequences indexed\n"
     ]
    }
   ],
   "source": [
    "gb_vrl = SeqIO.index_db(\"gbvrl.idx\", files, \"genbank\")\n",
    "print(\"%i sequences indexed\" % len(gb_vrl))"
   ]
  },
  {
   "cell_type": "markdown",
   "metadata": {},
   "source": [
    "## Writing Files"
   ]
  },
  {
   "cell_type": "code",
   "execution_count": 39,
   "metadata": {},
   "outputs": [],
   "source": [
    "rec1 = SeqRecord(\n",
    "    Seq(\n",
    "        \"MMYQQGCFAGGTVLRLAKDLAENNRGARVLVVCSEITAVTFRGPSETHLDSMVGQALFGD\"\n",
    "        \"GAGAVIVGSDPDLSVERPLYELVWTGATLLPDSEGAIDGHLREVGLTFHLLKDVPGLISK\"\n",
    "        \"NIEKSLKEAFTPLGISDWNSTFWIAHPGGPAILDQVEAKLGLKEEKMRATREVLSEYGNM\"\n",
    "        \"SSAC\",\n",
    "    ),\n",
    "    id=\"gi|14150838|gb|AAK54648.1|AF376133_1\",\n",
    "    description=\"chalcone synthase [Cucumis sativus]\",\n",
    ")\n",
    "\n",
    "rec2 = SeqRecord(\n",
    "    Seq(\n",
    "        \"YPDYYFRITNREHKAELKEKFQRMCDKSMIKKRYMYLTEEILKENPSMCEYMAPSLDARQ\"\n",
    "        \"DMVVVEIPKLGKEAAVKAIKEWGQ\",\n",
    "    ),\n",
    "    id=\"gi|13919613|gb|AAK33142.1|\",\n",
    "    description=\"chalcone synthase [Fragaria vesca subsp. bracteata]\",\n",
    ")\n",
    "\n",
    "rec3 = SeqRecord(\n",
    "    Seq(\n",
    "        \"MVTVEEFRRAQCAEGPATVMAIGTATPSNCVDQSTYPDYYFRITNSEHKVELKEKFKRMC\"\n",
    "        \"EKSMIKKRYMHLTEEILKENPNICAYMAPSLDARQDIVVVEVPKLGKEAAQKAIKEWGQP\"\n",
    "        \"KSKITHLVFCTTSGVDMPGCDYQLTKLLGLRPSVKRFMMYQQGCFAGGTVLRMAKDLAEN\"\n",
    "        \"NKGARVLVVCSEITAVTFRGPNDTHLDSLVGQALFGDGAAAVIIGSDPIPEVERPLFELV\"\n",
    "        \"SAAQTLLPDSEGAIDGHLREVGLTFHLLKDVPGLISKNIEKSLVEAFQPLGISDWNSLFW\"\n",
    "        \"IAHPGGPAILDQVELKLGLKQEKLKATRKVLSNYGNMSSACVLFILDEMRKASAKEGLGT\"\n",
    "        \"TGEGLEWGVLFGFGPGLTVETVVLHSVAT\",\n",
    "    ),\n",
    "    id=\"gi|13925890|gb|AAK49457.1|\",\n",
    "    description=\"chalcone synthase [Nicotiana tabacum]\",\n",
    ")\n",
    "\n",
    "my_records = [rec1, rec2, rec3]"
   ]
  },
  {
   "cell_type": "code",
   "execution_count": 40,
   "metadata": {},
   "outputs": [
    {
     "data": {
      "text/plain": [
       "3"
      ]
     },
     "execution_count": 40,
     "metadata": {},
     "output_type": "execute_result"
    }
   ],
   "source": [
    "SeqIO.write(my_records, \"my_example.faa\", \"fasta\")"
   ]
  },
  {
   "cell_type": "markdown",
   "metadata": {},
   "source": [
    "## Getting SeqRecord objects as formatted strings "
   ]
  },
  {
   "cell_type": "code",
   "execution_count": null,
   "metadata": {},
   "outputs": [],
   "source": [
    "records = SeqIO.parse(\"AOC1seq.gb\", \"genbank\")\n",
    "out_handle = StringIO()\n",
    "SeqIO.write(records, out_handle, \"fasta\")\n",
    "fasta_data = out_handle.getvalue "
   ]
  }
 ],
 "metadata": {
  "kernelspec": {
   "display_name": "Python 3",
   "language": "python",
   "name": "python3"
  },
  "language_info": {
   "codemirror_mode": {
    "name": "ipython",
    "version": 3
   },
   "file_extension": ".py",
   "mimetype": "text/x-python",
   "name": "python",
   "nbconvert_exporter": "python",
   "pygments_lexer": "ipython3",
   "version": "3.8.5"
  }
 },
 "nbformat": 4,
 "nbformat_minor": 4
}
